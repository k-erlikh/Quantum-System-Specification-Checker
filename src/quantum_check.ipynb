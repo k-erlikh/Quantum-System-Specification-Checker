{
 "cells": [
  {
   "cell_type": "markdown",
   "metadata": {},
   "source": [
    "Implementation of a quantum algorithm designed to check system specification consistency, developed by Mohammed Zidan, Ahmed M. Eisa, Montasir Qasymeh, and Mahmoud A. Ismail Shoman. [ [1] ]\n",
    "\n",
    "[1]: https://ieeexplore-ieee-org.proxy.library.carleton.ca/document/10485497 \"A Quantum Algorithm for System Specifications Verification\""
   ]
  },
  {
   "cell_type": "code",
   "execution_count": null,
   "metadata": {},
   "outputs": [],
   "source": [
    "from qiskit import QuantumCircuit, QuantumRegister"
   ]
  },
  {
   "cell_type": "markdown",
   "metadata": {},
   "source": [
    "Table 1. Truth table example for a consistent system with 3 variables and 2 function oracles (F1 = !X0 X2, F2 = !X0 !X1)\n",
    "| X0 | X1 | X2 | F1  | F2  | Bool |\n",
    "|----|----|----|----|----|----|\n",
    "|  0 |  0 |  0 |  0  |  1  | False |\n",
    "|  0 |  0 |  1 |  1  |  1  | True |\n",
    "|  0 |  1 |  0 |  0  |  0  | False |\n",
    "|  0 |  1 |  1 |  1  |  0  | False |\n",
    "|  1 |  0 |  0 |  0  |  0  | False |\n",
    "|  1 |  0 |  1 |  0  |  0  | False |\n",
    "|  1 |  1 |  0 |  0  |  0  | False |\n",
    "|  1 |  1 |  1 |  0  |  0  | False |\n",
    "\n",
    "Table 2. Truth table example for an inconsistent system with 3 variables and 2 function oracles (F1 = X0 !X2, F2 = !X0 !X1)\n",
    "| X0 | X1 | X2 | F1  | F2  | Bool |\n",
    "|----|----|----|----|----|----|\n",
    "|  0 |  0 |  0 |  0  |  1  | False |\n",
    "|  0 |  0 |  1 |  0  |  1  | False |\n",
    "|  0 |  1 |  0 |  0  |  0  | False |\n",
    "|  0 |  1 |  1 |  0  |  0  | False |\n",
    "|  1 |  0 |  0 |  1  |  0  | False |\n",
    "|  1 |  0 |  1 |  0  |  0  | False |\n",
    "|  1 |  1 |  0 |  1  |  0  | False |\n",
    "|  1 |  1 |  1 |  0  |  0  | False |\n"
   ]
  },
  {
   "cell_type": "code",
   "execution_count": null,
   "metadata": {},
   "outputs": [],
   "source": [
    "#Table 1 representation\n",
    "consistent_system = {\n",
    "    \"terms\" : {\"0x1\", \"00x\"},\n",
    "    \"var_count\" : 3,\n",
    "    \"function_count\" : 2\n",
    "}\n",
    "\n",
    "#Table 2 representation\n",
    "inconsistent_system = {\n",
    "    \"terms\" : {\"1x0\", \"00x\"},\n",
    "    \"var_count\" : 3,\n",
    "    \"function_count\" : 2\n",
    "}"
   ]
  },
  {
   "cell_type": "code",
   "execution_count": null,
   "metadata": {},
   "outputs": [],
   "source": [
    "def init__original_circuit(var_count: int, function_count: int) -> QuantumCircuit:\n",
    "    qc_original = QuantumCircuit()\n",
    "\n",
    "    qc_original.add_register(QuantumRegister(var_count, name=\"X\"))\n",
    "\n",
    "    for i in range(function_count):\n",
    "        reg_name = f\"F{i+1}\"\n",
    "        qc_original.add_register(QuantumRegister(1, name=reg_name))\n",
    "\n",
    "    qc_original.add_register(QuantumRegister(1, name=\"aux\"))\n",
    "\n",
    "    qc_original.add_register(QuantumRegister(1, name=\"a1\"))\n",
    "    qc_original.add_register(QuantumRegister(1, name=\"a2\"))\n",
    "\n",
    "    return qc_original\n",
    "    "
   ]
  },
  {
   "cell_type": "code",
   "execution_count": null,
   "metadata": {},
   "outputs": [],
   "source": [
    "def apply_oracles(circuit: QuantumCircuit, terms, function_count):\n",
    "    pass"
   ]
  },
  {
   "cell_type": "markdown",
   "metadata": {},
   "source": [
    "References\n",
    "\n",
    "[1] M. Zidan, A. M. Eisa, M. Qasymeh, and M. A. I. Shoman, “A quantum\n",
    "algorithm for system specifications verification,” IEEE Internet of Things\n",
    "Journal, vol. 11, no. 14, pp. 24 775–24 794, 2024.\n",
    "```"
   ]
  }
 ],
 "metadata": {
  "kernelspec": {
   "display_name": "Python 3",
   "language": "python",
   "name": "python3"
  },
  "language_info": {
   "codemirror_mode": {
    "name": "ipython",
    "version": 3
   },
   "file_extension": ".py",
   "mimetype": "text/x-python",
   "name": "python",
   "nbconvert_exporter": "python",
   "pygments_lexer": "ipython3",
   "version": "3.12.1"
  }
 },
 "nbformat": 4,
 "nbformat_minor": 2
}
