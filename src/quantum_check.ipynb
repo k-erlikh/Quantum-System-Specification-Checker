{
 "cells": [
  {
   "cell_type": "markdown",
   "metadata": {},
   "source": [
    "Implementation of a quantum algorithm designed to check system specification consistency, developed by Mohammed Zidan, Ahmed M. Eisa, Montasir Qasymeh, and Mahmoud A. Ismail Shoman. [ [1] ]\n",
    "\n",
    "[1]: https://ieeexplore-ieee-org.proxy.library.carleton.ca/document/10485497 \"A Quantum Algorithm for System Specifications Verification\""
   ]
  },
  {
   "cell_type": "code",
   "execution_count": 141,
   "metadata": {},
   "outputs": [],
   "source": [
    "from qiskit import QuantumCircuit, QuantumRegister\n",
    "%matplotlib inline"
   ]
  },
  {
   "cell_type": "markdown",
   "metadata": {},
   "source": [
    "Table 1. Truth table example for a consistent system with 3 variables and 2 function oracles (F1 = !X0 X2, F2 = !X0 !X1)\n",
    "| X0 | X1 | X2 | F1  | F2  | Bool |\n",
    "|----|----|----|----|----|----|\n",
    "|  0 |  0 |  0 |  0  |  1  | False |\n",
    "|  0 |  0 |  1 |  1  |  1  | True |\n",
    "|  0 |  1 |  0 |  0  |  0  | False |\n",
    "|  0 |  1 |  1 |  1  |  0  | False |\n",
    "|  1 |  0 |  0 |  0  |  0  | False |\n",
    "|  1 |  0 |  1 |  0  |  0  | False |\n",
    "|  1 |  1 |  0 |  0  |  0  | False |\n",
    "|  1 |  1 |  1 |  0  |  0  | False |\n",
    "\n",
    "Table 2. Truth table example for an inconsistent system with 3 variables and 2 function oracles (F1 = X0 !X2, F2 = !X0 !X1)\n",
    "| X0 | X1 | X2 | F1  | F2  | Bool |\n",
    "|----|----|----|----|----|----|\n",
    "|  0 |  0 |  0 |  0  |  1  | False |\n",
    "|  0 |  0 |  1 |  0  |  1  | False |\n",
    "|  0 |  1 |  0 |  0  |  0  | False |\n",
    "|  0 |  1 |  1 |  0  |  0  | False |\n",
    "|  1 |  0 |  0 |  1  |  0  | False |\n",
    "|  1 |  0 |  1 |  0  |  0  | False |\n",
    "|  1 |  1 |  0 |  1  |  0  | False |\n",
    "|  1 |  1 |  1 |  0  |  0  | False |\n"
   ]
  },
  {
   "cell_type": "code",
   "execution_count": 142,
   "metadata": {},
   "outputs": [],
   "source": [
    "#Table 1 representation\n",
    "consistent_system = {\n",
    "    \"terms\" : [\"0x1\", \"00x\"],\n",
    "    \"var_count\" : 3,\n",
    "    \"function_count\" : 2\n",
    "}\n",
    "\n",
    "#Table 2 representation\n",
    "inconsistent_system = {\n",
    "    \"terms\" : [\"1x0\", \"00x\"],\n",
    "    \"var_count\" : 3,\n",
    "    \"function_count\" : 2\n",
    "}"
   ]
  },
  {
   "cell_type": "code",
   "execution_count": 143,
   "metadata": {},
   "outputs": [],
   "source": [
    "def init__original_circuit(var_count: int, function_count: int) -> QuantumCircuit:\n",
    "    \"\"\"\n",
    "    Function: init_original_circuit\n",
    "    Params: var_count(number of variables in system), function_count(number of functions/oracles in system)\n",
    "    Return: QuantumCircuit - Circuit constructed based on parameters provided\n",
    "\n",
    "    This function initializes the original circuit with all the registers, and sets the unknown qubits X0,X1,..Xn in a state of superposition\n",
    "    \"\"\"\n",
    "    qc_original = QuantumCircuit()\n",
    "\n",
    "    qc_original.add_register(QuantumRegister(var_count, name=\"X\")) #Creates register with number of qubits n defined in system\n",
    "    qc_original.h(qc_original.qregs[0]) #Adds Hadamard gates to add qubits in register X\n",
    "\n",
    "    for i in range(function_count): #Loop that creates a register for every function oracle\n",
    "        reg_name = f\"F{i+1}\"\n",
    "        qc_original.add_register(QuantumRegister(1, name=reg_name))\n",
    "\n",
    "    #Auxillary qubits\n",
    "    qc_original.add_register(QuantumRegister(1, name=\"aux\")) \n",
    "    qc_original.add_register(QuantumRegister(1, name=\"a1\")) \n",
    "    qc_original.add_register(QuantumRegister(1, name=\"a2\"))\n",
    " \n",
    "    #qc_original.draw(\"mpl\")\n",
    "\n",
    "    return qc_original"
   ]
  },
  {
   "cell_type": "code",
   "execution_count": 144,
   "metadata": {},
   "outputs": [],
   "source": [
    "def apply_oracles(qc_original: QuantumCircuit, terms, function_count) -> QuantumCircuit:\n",
    "    \"\"\"\n",
    "    Based on the terms provided, this function will create oracles and apply them to the circuit accordingly\n",
    "    \"\"\"\n",
    "    for i in range(function_count):\n",
    "        reg_c = qc_original.qregs[0]\n",
    "        reg_t = qc_original.qregs[i+1]\n",
    "        term = terms[i]\n",
    "\n",
    "        c1, c2, c_p1, c_p2 = None, None, None, None #Control 1 value, control 2 value, control 1 position, control 2 position\n",
    "\n",
    "        for j in range(len(term)): #Determines position and value of the controls\n",
    "            if term[j] != 'x':\n",
    "                if c1 == None:\n",
    "                    c1 = int(term[j])\n",
    "                    c_p1 = j\n",
    "                else:\n",
    "                    c2 = int(term[j])\n",
    "                    c_p2 = j\n",
    "\n",
    "        qc_original.ccx(reg_c[c_p1], reg_c[c_p2], reg_t[0], ctrl_state=f\"{c1}{c2}\") #Creates oracle based on the term control values, applies it to the function as a target\n",
    "\n",
    "    #qc_original.draw(\"mpl\")\n",
    "\n",
    "    return qc_original\n",
    "        "
   ]
  },
  {
   "cell_type": "code",
   "execution_count": 145,
   "metadata": {},
   "outputs": [],
   "source": [
    "def apply_auxillary_gates(qc_original: QuantumCircuit, function_count: int) -> QuantumCircuit:\n",
    "    \"\"\"\n",
    "    Applies the multi-controled x gate and control hadamard gate\n",
    "    \"\"\"\n",
    "    reg_control = []\n",
    "\n",
    "    for i in range(function_count):\n",
    "        reg_control.append(qc_original.qregs[1+i]) \n",
    "\n",
    "    qc_original.mcx(reg_control, qc_original.qregs[3][0])\n",
    "    qc_original.ch(qc_original.qregs[3][0], qc_original.qregs[4][0])\n",
    "\n",
    "    qc_original.draw(\"mpl\")\n",
    "\n",
    "    return qc_original"
   ]
  },
  {
   "cell_type": "code",
   "execution_count": 146,
   "metadata": {},
   "outputs": [],
   "source": [
    "def mirror_circuit(qc_original: QuantumCircuit) -> QuantumCircuit:\n",
    "    pass"
   ]
  },
  {
   "cell_type": "code",
   "execution_count": 147,
   "metadata": {},
   "outputs": [
    {
     "data": {
      "text/plain": [
       "<qiskit.circuit.quantumcircuit.QuantumCircuit at 0x7f9444baf140>"
      ]
     },
     "execution_count": 147,
     "metadata": {},
     "output_type": "execute_result"
    },
    {
     "data": {
      "image/png": "[encoded data removed]",
      "text/plain": [
       "<Figure size 554.753x702.333 with 1 Axes>"
      ]
     },
     "metadata": {},
     "output_type": "display_data"
    }
   ],
   "source": [
    "circuit = init__original_circuit(consistent_system.get(\"var_count\"),consistent_system.get(\"function_count\"))\n",
    "\n",
    "apply_oracles(circuit, consistent_system.get(\"terms\"), consistent_system.get(\"function_count\"))\n",
    "\n",
    "apply_auxillary_gates(circuit, consistent_system.get(\"function_count\"))"
   ]
  },
  {
   "cell_type": "markdown",
   "metadata": {},
   "source": [
    "References\n",
    "\n",
    "[1] M. Zidan, A. M. Eisa, M. Qasymeh, and M. A. I. Shoman, “A quantum\n",
    "algorithm for system specifications verification,” IEEE Internet of Things\n",
    "Journal, vol. 11, no. 14, pp. 24 775–24 794, 2024.\n",
    "```"
   ]
  }
 ],
 "metadata": {
  "kernelspec": {
   "display_name": "Python 3",
   "language": "python",
   "name": "python3"
  },
  "language_info": {
   "codemirror_mode": {
    "name": "ipython",
    "version": 3
   },
   "file_extension": ".py",
   "mimetype": "text/x-python",
   "name": "python",
   "nbconvert_exporter": "python",
   "pygments_lexer": "ipython3",
   "version": "3.12.1"
  }
 },
 "nbformat": 4,
 "nbformat_minor": 2
}
