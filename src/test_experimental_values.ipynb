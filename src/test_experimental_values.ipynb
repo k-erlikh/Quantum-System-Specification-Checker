{
 "cells": [
  {
   "cell_type": "code",
   "execution_count": 2,
   "id": "d6a44f8b",
   "metadata": {},
   "outputs": [],
   "source": [
    "import csv\n",
    "from qiskit import transpile\n",
    "from qiskit.quantum_info import Statevector\n",
    "from qiskit.visualization import plot_distribution, plot_histogram\n",
    "from qiskit_aer import AerSimulator\n",
    "import qiskit.quantum_info as qi\n",
    "from qiskit.providers.fake_provider import GenericBackendV2\n",
    "import numpy as np\n",
    "from quantum_check import construct_circuit, check_consistency\n",
    "import matplotlib.pyplot as plt\n",
    "import pandas as pd"
   ]
  },
  {
   "cell_type": "code",
   "execution_count": 3,
   "id": "24d1d3c9",
   "metadata": {},
   "outputs": [],
   "source": [
    "#Load in data from data.csv\n",
    "test_data = []\n",
    "\n",
    "with open(\"data/data.csv\", mode=\"r\", newline=\"\") as file: \n",
    "    reader = csv.reader(file)\n",
    "    next(reader)\n",
    "    for row in reader:\n",
    "        n = int(row[0])\n",
    "        system_type = row[1]\n",
    "        F1, F2, F3 = row[2], row[3], row[4]\n",
    "        test_data.append((n, system_type, F1, F2, F3))"
   ]
  },
  {
   "cell_type": "code",
   "execution_count": 4,
   "id": "e0d472ba",
   "metadata": {},
   "outputs": [],
   "source": [
    "def experimental_quantum_test():\n",
    "    exp = 0\n",
    "    terms = []\n",
    "    func = 0\n",
    "    var = 0\n",
    "    label = ''\n",
    "\n",
    "    for data in test_data:\n",
    "        exp += 1\n",
    "        var = data[0]\n",
    "        label = data[1]\n",
    "        for i in range(len(data) - 2):\n",
    "            terms.append(data[i+2])\n",
    "        func = len(terms)\n",
    "        \n",
    "        circ = construct_circuit(terms, var, func)\n",
    "\n",
    "        backend = GenericBackendV2(len(circ.qubits))\n",
    "        circ = transpile(circ, backend)\n",
    "\n",
    "        shots = [64, 128, 256]\n",
    "        \n",
    "        a_probs = []\n",
    "        a_probs.append(exp)\n",
    "        a_probs.append(var)\n",
    "        a_probs.append(label)\n",
    "\n",
    "        for shot in shots:\n",
    "            result = backend.run(circ, shots=shot)\n",
    "            probabilities = {k:v/shot for k,v in result.result().get_counts().items()}\n",
    "\n",
    "            p0011 = probabilities.get('0011', 0)\n",
    "            p1100 = probabilities.get('1100', 0)\n",
    "            \n",
    "            a_probs.append(probabilities.get('0000', 0))\n",
    "            a_probs.append(probabilities.get('0011', 0))\n",
    "            a_probs.append(probabilities.get('1100', 0))\n",
    "            a_probs.append(probabilities.get('1111', 0))\n",
    "        \n",
    "        with open('data/experimental_probabilities.csv', mode='a', newline='') as file: #64x000,64x0011,64x1100,64x1111,128x000,128x0011,128x1100,256x1111,256x000,256x0011,256x1100,256x1111\n",
    "            writer = csv.writer(file)\n",
    "            writer.writerow(a_probs)\n",
    "            \n",
    "        print(\"\\n\");\n",
    "        \n",
    "        terms = []"
   ]
  },
  {
   "cell_type": "code",
   "execution_count": null,
   "id": "c75f1de8",
   "metadata": {},
   "outputs": [],
   "source": [
    "# terms = [\"0x1\", \"00x\"]\n",
    "# var = 3\n",
    "# func = 2\n",
    "\n",
    "\n",
    "# circ = construct_circuit(terms, var, func)\n",
    "\n",
    "# backend = GenericBackendV2(len(circ.qubits))\n",
    "# # simulator = AerSimulator(method='matrix_product_state', backend = backend)\n",
    "# circ = transpile(circ, backend)\n",
    "# shots = [64, 128, 256]\n",
    "# shot = 64\n",
    "# job = backend.run(circ, shots=shot)\n",
    "\n",
    "# probabilities = {k:v/shot for k,v in job.result().get_counts().items()}\n",
    "# plot_distribution(probabilities);"
   ]
  },
  {
   "cell_type": "code",
   "execution_count": null,
   "id": "aebab14c",
   "metadata": {},
   "outputs": [
    {
     "name": "stdout",
     "output_type": "stream",
     "text": [
      "\n",
      "\n"
     ]
    }
   ],
   "source": [
    "experimental_quantum_test()"
   ]
  }
 ],
 "metadata": {
  "kernelspec": {
   "display_name": "Python 3",
   "language": "python",
   "name": "python3"
  },
  "language_info": {
   "codemirror_mode": {
    "name": "ipython",
    "version": 3
   },
   "file_extension": ".py",
   "mimetype": "text/x-python",
   "name": "python",
   "nbconvert_exporter": "python",
   "pygments_lexer": "ipython3",
   "version": "3.12.1"
  }
 },
 "nbformat": 4,
 "nbformat_minor": 5
}
