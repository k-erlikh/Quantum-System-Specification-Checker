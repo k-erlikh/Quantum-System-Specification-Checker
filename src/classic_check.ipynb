{
 "cells": [
  {
   "cell_type": "markdown",
   "metadata": {},
   "source": [
    "Implementation of a quantum algorithm designed to check system specification consistency, developed by Mohammed Zidan, Ahmed M. Eisa, Montasir Qasymeh, and Mahmoud A. Ismail Shoman. [ [1] ]\n",
    "\n",
    "[1]: https://ieeexplore-ieee-org.proxy.library.carleton.ca/document/10485497 \"A Quantum Algorithm for System Specifications Verification\""
   ]
  },
  {
   "cell_type": "code",
   "execution_count": 1,
   "metadata": {},
   "outputs": [],
   "source": [
    "import itertools"
   ]
  },
  {
   "cell_type": "markdown",
   "metadata": {},
   "source": [
    "Table 1. Truth table example for a consistent system with 3 variables and 2 function oracles (F1 = !X0 X2, F2 = !X0 !X1)\n",
    "| X0 | X1 | X2 | F1  | F2  | Bool |\n",
    "|----|----|----|----|----|----|\n",
    "|  0 |  0 |  0 |  0  |  1  | False |\n",
    "|  0 |  0 |  1 |  1  |  1  | True |\n",
    "|  0 |  1 |  0 |  0  |  0  | False |\n",
    "|  0 |  1 |  1 |  1  |  0  | False |\n",
    "|  1 |  0 |  0 |  0  |  0  | False |\n",
    "|  1 |  0 |  1 |  0  |  0  | False |\n",
    "|  1 |  1 |  0 |  0  |  0  | False |\n",
    "|  1 |  1 |  1 |  0  |  0  | False |\n",
    "\n",
    "Table 2. Truth table example for an inconsistent system with 3 variables and 2 function oracles (F1 = X0 !X2, F2 = !X0 !X1)\n",
    "| X0 | X1 | X2 | F1  | F2  | Bool |\n",
    "|----|----|----|----|----|----|\n",
    "|  0 |  0 |  0 |  0  |  1  | False |\n",
    "|  0 |  0 |  1 |  0  |  1  | False |\n",
    "|  0 |  1 |  0 |  0  |  0  | False |\n",
    "|  0 |  1 |  1 |  0  |  0  | False |\n",
    "|  1 |  0 |  0 |  1  |  0  | False |\n",
    "|  1 |  0 |  1 |  0  |  0  | False |\n",
    "|  1 |  1 |  0 |  1  |  0  | False |\n",
    "|  1 |  1 |  1 |  0  |  0  | False |\n"
   ]
  },
  {
   "cell_type": "code",
   "execution_count": 2,
   "metadata": {},
   "outputs": [],
   "source": [
    "def evaluate_specification_term(term, variable_values):\n",
    "    \"\"\"\n",
    "    Function: evaluate_specification_term\n",
    "    Params: term (string like \"0x1\" representing a specification pattern),\n",
    "            variable_values (list of binary values for variables [X0,X1,...])\n",
    "    Return: bool - True if values match term pattern, False otherwise\n",
    "    \"\"\"\n",
    "\n",
    "    for var_value, term_char in zip(variable_values, term):\n",
    "        if term_char not in ('x', str(var_value)):\n",
    "            return False\n",
    "    return True"
   ]
  },
  {
   "cell_type": "code",
   "execution_count": 3,
   "metadata": {},
   "outputs": [],
   "source": [
    "def check_specification_consistency(n, terms):\n",
    "    \"\"\"\n",
    "    Function: check_specification_consistency\n",
    "    Params: n (number of variables),\n",
    "            terms (list of specification terms)\n",
    "    Return: bool - True if system is consistent, False otherwise\n",
    "    \n",
    "    Implements the classical truth table method according to the article's 4 steps:\n",
    "    1. Terms represent Boolean functions \n",
    "    2. Generates full 2^n truth table\n",
    "    3. Evaluates all terms against each row\n",
    "    4. Returns True if any row satisfies all terms simultaneously\n",
    "    \n",
    "    \"\"\"\n",
    "    \n",
    "    for variable_values in itertools.product([0, 1], repeat=n):\n",
    "        all_terms_satisfied = True\n",
    "        for term in terms:\n",
    "            if not evaluate_specification_term(term, variable_values):\n",
    "                all_terms_satisfied = False\n",
    "                break\n",
    "        if all_terms_satisfied:\n",
    "            return True\n",
    "    \n",
    "    return False"
   ]
  },
  {
   "cell_type": "code",
   "execution_count": 4,
   "metadata": {},
   "outputs": [
    {
     "name": "stdout",
     "output_type": "stream",
     "text": [
      "Table 1 (consistent): True\n",
      "Table 2 (inconsistent): False\n"
     ]
    }
   ],
   "source": [
    "# Table 1 (consistent system)\n",
    "print(\"Table 1 (consistent):\", \n",
    "        check_specification_consistency(3, [\"0x1\", \"00x\"]))  \n",
    "\n",
    "# Table 2 (inconsistent system)\n",
    "print(\"Table 2 (inconsistent):\",\n",
    "        check_specification_consistency(3, [\"1x0\", \"00x\"])) \n"
   ]
  },
  {
   "cell_type": "markdown",
   "metadata": {},
   "source": [
    "References\n",
    "\n",
    "[1] M. Zidan, A. M. Eisa, M. Qasymeh, and M. A. I. Shoman, “A quantum\n",
    "algorithm for system specifications verification,” IEEE Internet of Things\n",
    "Journal, vol. 11, no. 14, pp. 24 775–24 794, 2024.\n",
    "```"
   ]
  }
 ],
 "metadata": {
  "kernelspec": {
   "display_name": "Python 3",
   "language": "python",
   "name": "python3"
  },
  "language_info": {
   "codemirror_mode": {
    "name": "ipython",
    "version": 3
   },
   "file_extension": ".py",
   "mimetype": "text/x-python",
   "name": "python",
   "nbconvert_exporter": "python",
   "pygments_lexer": "ipython3",
   "version": "3.12.1"
  }
 },
 "nbformat": 4,
 "nbformat_minor": 2
}
