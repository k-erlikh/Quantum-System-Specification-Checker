{
 "cells": [
  {
   "cell_type": "markdown",
   "id": "8e89dbe8",
   "metadata": {},
   "source": [
    "Testing using IBM Quantum Computers"
   ]
  },
  {
   "cell_type": "code",
   "execution_count": 27,
   "id": "32ffa7c3",
   "metadata": {},
   "outputs": [],
   "source": [
    "import json\n",
    "from qiskit_ibm_runtime import QiskitRuntimeService\n",
    "import numpy as np\n",
    "from quantum_check import construct_circuit"
   ]
  },
  {
   "cell_type": "code",
   "execution_count": 28,
   "id": "3525b37f",
   "metadata": {},
   "outputs": [],
   "source": [
    "with open('key.json') as f:\n",
    "    config = json.load(f)\n",
    "\n",
    "ibm_api_key = config[\"ibm_api_key\"]\n",
    "\n",
    "QiskitRuntimeService.save_account(channel=\"ibm_quantum\", token=ibm_api_key, overwrite=True)"
   ]
  },
  {
   "cell_type": "code",
   "execution_count": 37,
   "id": "a4c2dc89",
   "metadata": {},
   "outputs": [],
   "source": [
    "def classic_complexity(func: int, var: int) -> int: #O(m2^n)\n",
    "    return func * (2**var)\n",
    "\n",
    "#errors ϵ=0.0884 , ϵ=0.0625 , and ϵ=0.0442\n",
    "def quantum_complexity(func: int, error: float) -> int: #O(mϵ^−2)\n",
    "    return func / (error**2)"
   ]
  },
  {
   "cell_type": "code",
   "execution_count": 48,
   "id": "de84ca37",
   "metadata": {},
   "outputs": [
    {
     "name": "stdout",
     "output_type": "stream",
     "text": [
      "Classical complexity: 1536\n",
      "Quantum complexity: 383.8987735713846\n"
     ]
    }
   ],
   "source": [
    "terms = [\"0x10\",\"0xx0\",\"x01x\"]\n",
    "var = 9 #n\n",
    "func = 3 #m\n",
    "\n",
    "error = 0.0884\n",
    "\n",
    "print(f\"Classical complexity: {classic_complexity(func, var)}\")\n",
    "print(f\"Quantum complexity: {quantum_complexity(func, error)}\")"
   ]
  },
  {
   "cell_type": "code",
   "execution_count": 40,
   "id": "99b1a34f",
   "metadata": {},
   "outputs": [],
   "source": [
    "service = QiskitRuntimeService()\n",
    "\n",
    "backend = service.backend(\"ibm_sherbrooke\")\n",
    "\n",
    "#Data\n",
    "terms = [\"0x10\",\"0xx0\",\"x01x\"]\n",
    "var = 4 #n\n",
    "func = 3 #m\n",
    "\n",
    "circuit = construct_circuit(terms, var, func)\n",
    "\n",
    "print(f\"Classical complexity: {classic_complexity(func, var)}\")\n",
    "print(f\"Quantum complexity: {quantum_complexity(func, var)}\")\n"
   ]
  }
 ],
 "metadata": {
  "kernelspec": {
   "display_name": "Python 3",
   "language": "python",
   "name": "python3"
  },
  "language_info": {
   "codemirror_mode": {
    "name": "ipython",
    "version": 3
   },
   "file_extension": ".py",
   "mimetype": "text/x-python",
   "name": "python",
   "nbconvert_exporter": "python",
   "pygments_lexer": "ipython3",
   "version": "3.12.1"
  }
 },
 "nbformat": 4,
 "nbformat_minor": 5
}
