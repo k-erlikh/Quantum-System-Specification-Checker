{
 "cells": [
  {
   "cell_type": "code",
   "execution_count": 103,
   "id": "8bd6d27d",
   "metadata": {},
   "outputs": [],
   "source": [
    "import csv\n",
    "from qiskit import transpile\n",
    "from qiskit.quantum_info import Statevector\n",
    "from qiskit.visualization import plot_distribution\n",
    "from qiskit_aer import AerSimulator\n",
    "import qiskit.quantum_info as qi\n",
    "import numpy as np\n",
    "from quantum_check import construct_circuit, check_consistency\n",
    "import matplotlib.pyplot as plt\n",
    "import pandas as pd"
   ]
  },
  {
   "cell_type": "code",
   "execution_count": 88,
   "id": "386d6b8e",
   "metadata": {},
   "outputs": [],
   "source": [
    "#Load in data from data.csv\n",
    "test_data = []\n",
    "\n",
    "with open(\"data/data.csv\", mode=\"r\", newline=\"\") as file: \n",
    "    reader = csv.reader(file)\n",
    "    next(reader)\n",
    "    for row in reader:\n",
    "        n = int(row[0])\n",
    "        system_type = row[1]\n",
    "        F1, F2, F3 = row[2], row[3], row[4]\n",
    "        test_data.append((n, system_type, F1, F2, F3))"
   ]
  },
  {
   "cell_type": "code",
   "execution_count": null,
   "id": "fe11ce98",
   "metadata": {},
   "outputs": [],
   "source": [
    "def theoretical_quantum_test():\n",
    "    exp = 0\n",
    "    terms = []\n",
    "    func = 0\n",
    "    var = 0\n",
    "    label = ''\n",
    "\n",
    "    for data in test_data:\n",
    "        exp += 1\n",
    "        var = data[0]\n",
    "        label = data[1]\n",
    "        for i in range(len(data) - 2):\n",
    "            terms.append(data[i+2])\n",
    "        func = len(terms)\n",
    "        \n",
    "        circ = construct_circuit(terms, var, func)\n",
    "        # circ.draw(\"mpl\");\n",
    "        # plt.savefig(f\"theoretical_figures/circuit_{exp}_{terms}\")\n",
    "        # plt.close()\n",
    "\n",
    "        simulator = AerSimulator(method='matrix_product_state')\n",
    "        circ = transpile(circ, simulator)\n",
    "\n",
    "        shots = [64, 128, 256]\n",
    "        \n",
    "        a_probs = []\n",
    "        a_probs.append(exp)\n",
    "        a_probs.append(var)\n",
    "        \n",
    "        for shot in shots:\n",
    "            result = simulator.run(circ, shots=shot).result()\n",
    "            probabilities = {k:v/shot for k,v in result.get_counts().items()}\n",
    "\n",
    "            p0011 = probabilities.get('0011', 0)\n",
    "            p1100 = probabilities.get('1100', 0)\n",
    "            \n",
    "            a_probs.append(probabilities.get('0000', 0))\n",
    "            a_probs.append(probabilities.get('0011', 0))\n",
    "            a_probs.append(probabilities.get('1100', 0))\n",
    "            a_probs.append(probabilities.get('1111', 0))\n",
    "        \n",
    "        with open('data/theoretical_probabilities.csv', mode='a', newline='') as file: #64x000,64x0011,64x1100,64x1111,128x000,128x0011,128x1100,256x1111,256x000,256x0011,256x1100,256x1111\n",
    "            writer = csv.writer(file)\n",
    "            writer.writerow(a_probs)\n",
    "            \n",
    "        #print(\"\\n\");\n",
    "        \n",
    "        terms = []\n"
   ]
  },
  {
   "cell_type": "code",
   "execution_count": 118,
   "id": "13be6890",
   "metadata": {},
   "outputs": [],
   "source": [
    "for i in range(100):\n",
    "    theoretical_quantum_test();"
   ]
  },
  {
   "cell_type": "code",
   "execution_count": 119,
   "id": "88c95785",
   "metadata": {},
   "outputs": [],
   "source": [
    "#Data analysis\n",
    "df = pd.read_csv(\"data/theoretical_probabilities.csv\")\n",
    "df_without_var = df.drop(columns=['var'])\n",
    "df_sorted = df.sort_values(by='experiment')\n",
    "df_avg = df_sorted.groupby('experiment').mean()\n",
    "df_avg.reset_index(inplace=True)\n",
    "df_avg.to_csv('data/theoretical_mean_results.csv', index=False)"
   ]
  },
  {
   "cell_type": "code",
   "execution_count": null,
   "id": "bad91f9d",
   "metadata": {},
   "outputs": [],
   "source": [
    "df = pd.read_csv('data/theoretical_mean_results.csv')\n",
    "\n",
    "labels = ['0000', '0011', '1100', '1111']\n",
    "\n",
    "for i, row in df.iterrows():\n",
    "    var_value = row['var']\n",
    "    fig, axs = plt.subplots(1, 3, figsize=(15, 5))\n",
    "    \n",
    "    for j in range(3):\n",
    "        start_idx = 2 + j * 4\n",
    "        axs[j].bar(labels, row[start_idx:start_idx + 4])\n",
    "        axs[j].set_title(f\"Experiment {i+1} - Graph {j+1}: {2**(j+6)} Shots\")\n",
    "        axs[j].set_xlabel('Labels')\n",
    "        axs[j].set_ylabel('Quasi-Probabilities')\n",
    "\n",
    "    plt.tight_layout()\n",
    "    fig.savefig(f\"figures/theoretical_figures/experiment_{i+1}_var{var_value}.png\")\n",
    "    plt.close(fig)"
   ]
  }
 ],
 "metadata": {
  "kernelspec": {
   "display_name": "Python 3",
   "language": "python",
   "name": "python3"
  },
  "language_info": {
   "codemirror_mode": {
    "name": "ipython",
    "version": 3
   },
   "file_extension": ".py",
   "mimetype": "text/x-python",
   "name": "python",
   "nbconvert_exporter": "python",
   "pygments_lexer": "ipython3",
   "version": "3.12.1"
  }
 },
 "nbformat": 4,
 "nbformat_minor": 5
}
