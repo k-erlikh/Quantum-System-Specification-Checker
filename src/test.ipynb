{
 "cells": [
  {
   "cell_type": "markdown",
   "id": "8e89dbe8",
   "metadata": {},
   "source": [
    "Testing using IBM Quantum Computers"
   ]
  },
  {
   "cell_type": "code",
   "execution_count": 1,
   "id": "32ffa7c3",
   "metadata": {},
   "outputs": [],
   "source": [
    "import json"
   ]
  },
  {
   "cell_type": "code",
   "execution_count": 4,
   "id": "3525b37f",
   "metadata": {},
   "outputs": [],
   "source": [
    "with open('key.json') as f:\n",
    "    config = json.load(f)\n",
    "\n",
    "api_key = config[\"ibm_api_key\"]"
   ]
  }
 ],
 "metadata": {
  "kernelspec": {
   "display_name": "Python 3",
   "language": "python",
   "name": "python3"
  },
  "language_info": {
   "codemirror_mode": {
    "name": "ipython",
    "version": 3
   },
   "file_extension": ".py",
   "mimetype": "text/x-python",
   "name": "python",
   "nbconvert_exporter": "python",
   "pygments_lexer": "ipython3",
   "version": "3.12.1"
  }
 },
 "nbformat": 4,
 "nbformat_minor": 5
}
